{
 "cells": [
  {
   "cell_type": "markdown",
   "metadata": {},
   "source": [
    "# Titanic: Machine Learning from Disaster"
   ]
  },
  {
   "cell_type": "code",
   "execution_count": 1,
   "metadata": {},
   "outputs": [],
   "source": [
    "import pandas as pd\n",
    "import numpy as np"
   ]
  },
  {
   "cell_type": "code",
   "execution_count": 2,
   "metadata": {},
   "outputs": [],
   "source": [
    "train = pd.read_csv('train.csv')\n",
    "test = pd.read_csv('test.csv')\n",
    "submit = pd.read_csv('gender_submission.csv')"
   ]
  },
  {
   "cell_type": "markdown",
   "metadata": {},
   "source": [
    "### Feature engineering and Feature Selection"
   ]
  },
  {
   "cell_type": "code",
   "execution_count": 3,
   "metadata": {},
   "outputs": [],
   "source": [
    "test.loc[test['Cabin'].isna()==True,'Cabin'] = 'Z'\n",
    "train.loc[train['Cabin'].isna()==True,'Cabin'] = 'Z'\n",
    "def split(word):\n",
    "    return [char for char in word]"
   ]
  },
  {
   "cell_type": "code",
   "execution_count": 4,
   "metadata": {},
   "outputs": [],
   "source": [
    "# extract the title\n",
    "train['Title'] = train['Name'].str.split(', ', expand=True)[1].str.split('.', expand=True)[0]\n",
    "test['Title'] = test['Name'].str.split(', ', expand=True)[1].str.split('.', expand=True)[0]"
   ]
  },
  {
   "cell_type": "code",
   "execution_count": 5,
   "metadata": {},
   "outputs": [],
   "source": [
    "# simplify code using encode = ['Sex','AgeRange','Cabin']\n",
    "dummies = pd.get_dummies(train.Sex)\n",
    "for i in train['Sex'].unique():\n",
    "    train[i] = 0\n",
    "for i in train['Sex'].unique():\n",
    "    train.loc[:,i] =  dummies[i]\n",
    "#train = train.drop(['Sex'], axis=1) \n",
    "train.head()\n",
    "dummies = pd.get_dummies(test.Sex)\n",
    "for i in test['Sex'].unique():\n",
    "    test[i] = 0\n",
    "for i in test['Sex'].unique():\n",
    "    test.loc[:,i] =  dummies[i]\n",
    "#test = test.drop(['Sex'], axis=1) "
   ]
  },
  {
   "cell_type": "code",
   "execution_count": 6,
   "metadata": {},
   "outputs": [
    {
     "data": {
      "text/plain": [
       "array(['Mr', 'Mrs', 'Miss', 'Master', 'Don', 'Rev', 'Dr', 'Mme', 'Ms',\n",
       "       'Major', 'Lady', 'Sir', 'Mlle', 'Col', 'Capt', 'the Countess',\n",
       "       'Jonkheer'], dtype=object)"
      ]
     },
     "execution_count": 6,
     "metadata": {},
     "output_type": "execute_result"
    }
   ],
   "source": [
    "train['Title'].unique()"
   ]
  },
  {
   "cell_type": "code",
   "execution_count": 7,
   "metadata": {},
   "outputs": [
    {
     "data": {
      "text/html": [
       "<div>\n",
       "<style scoped>\n",
       "    .dataframe tbody tr th:only-of-type {\n",
       "        vertical-align: middle;\n",
       "    }\n",
       "\n",
       "    .dataframe tbody tr th {\n",
       "        vertical-align: top;\n",
       "    }\n",
       "\n",
       "    .dataframe thead th {\n",
       "        text-align: right;\n",
       "    }\n",
       "</style>\n",
       "<table border=\"1\" class=\"dataframe\">\n",
       "  <thead>\n",
       "    <tr style=\"text-align: right;\">\n",
       "      <th></th>\n",
       "      <th>Name</th>\n",
       "      <th>Sex</th>\n",
       "      <th>Ticket</th>\n",
       "      <th>Embarked</th>\n",
       "      <th>Cabin</th>\n",
       "    </tr>\n",
       "  </thead>\n",
       "  <tbody>\n",
       "    <tr>\n",
       "      <th>61</th>\n",
       "      <td>Icard, Miss. Amelie</td>\n",
       "      <td>female</td>\n",
       "      <td>113572</td>\n",
       "      <td>NaN</td>\n",
       "      <td>B28</td>\n",
       "    </tr>\n",
       "    <tr>\n",
       "      <th>829</th>\n",
       "      <td>Stone, Mrs. George Nelson (Martha Evelyn)</td>\n",
       "      <td>female</td>\n",
       "      <td>113572</td>\n",
       "      <td>NaN</td>\n",
       "      <td>B28</td>\n",
       "    </tr>\n",
       "  </tbody>\n",
       "</table>\n",
       "</div>"
      ],
      "text/plain": [
       "                                          Name     Sex  Ticket Embarked Cabin\n",
       "61                         Icard, Miss. Amelie  female  113572      NaN   B28\n",
       "829  Stone, Mrs. George Nelson (Martha Evelyn)  female  113572      NaN   B28"
      ]
     },
     "execution_count": 7,
     "metadata": {},
     "output_type": "execute_result"
    }
   ],
   "source": [
    "train[train['Embarked'].isna()==True][['Name','Sex','Ticket','Embarked','Cabin']]"
   ]
  },
  {
   "cell_type": "markdown",
   "metadata": {},
   "source": [
    " After google one of the passengers (https://www.encyclopedia-titanica.org/titanic-survivor/martha-evelyn-stone.html) found that the Embarked value is 'S' since the other passenger has the same ticket number means they travelled together and so both Embarked from the same location"
   ]
  },
  {
   "cell_type": "code",
   "execution_count": 8,
   "metadata": {},
   "outputs": [],
   "source": [
    "train['Embarked'] = train['Embarked'].fillna('S')"
   ]
  },
  {
   "cell_type": "code",
   "execution_count": 9,
   "metadata": {},
   "outputs": [],
   "source": [
    "train['Ticket_freq'] = train.groupby('Ticket')['Ticket'].transform('count')\n",
    "test['Ticket_freq'] = test.groupby('Ticket')['Ticket'].transform('count')"
   ]
  },
  {
   "cell_type": "code",
   "execution_count": 10,
   "metadata": {},
   "outputs": [],
   "source": [
    "# SibSp + Parch gives family size\n",
    "train['Family'] = train['SibSp'] + train['Parch'] + 1\n",
    "test['Family'] = test['SibSp'] + test['Parch'] + 1"
   ]
  },
  {
   "cell_type": "code",
   "execution_count": 11,
   "metadata": {},
   "outputs": [],
   "source": [
    "test.loc[test['Cabin'].isna()==True,'Cabin'] = 'Z'\n",
    "train.loc[train['Cabin'].isna()==True,'Cabin'] = 'Z'\n",
    "def split(word):\n",
    "    return [char for char in word]\n",
    "train['Cabin'] = [split(i) for i in train['Cabin']]\n",
    "cabin_list = ['A', 'B', 'C', 'D', 'E', 'F', 'T', 'G', 'Z']\n",
    "a = []\n",
    "for i in train['Cabin']:\n",
    "    b = []\n",
    "    for j in i:\n",
    "        if j in cabin_list:\n",
    "            b.append(j)\n",
    "    a.append(b)\n",
    "train['Cabin'] = a\n",
    "# select the highest deck for passengers with multiple decks booked\n",
    "train['Cabin'] = [min(i) for i in train['Cabin']]\n",
    "\n",
    "test['Cabin'] = [split(i) for i in test['Cabin']]\n",
    "a = []\n",
    "for i in test['Cabin']:\n",
    "    b = []\n",
    "    for j in i:\n",
    "        if j in cabin_list:\n",
    "            b.append(j)\n",
    "    a.append(b)\n",
    "test['Cabin'] = a\n",
    "test['Cabin'] = [min(i) for i in test['Cabin']]"
   ]
  },
  {
   "cell_type": "code",
   "execution_count": 12,
   "metadata": {},
   "outputs": [
    {
     "name": "stdout",
     "output_type": "stream",
     "text": [
      "Cabin      A     B     C     D     E    F    G    T      Z\n",
      "Pclass                                                    \n",
      "1       15.0  47.0  59.0  29.0  25.0  0.0  0.0  1.0   40.0\n",
      "2        0.0   0.0   0.0   4.0   4.0  8.0  0.0  0.0  168.0\n",
      "3        0.0   0.0   0.0   0.0   4.0  4.0  4.0  0.0  479.0\n"
     ]
    }
   ],
   "source": [
    "print(train.groupby('Pclass')['Cabin'].value_counts().unstack().fillna(0))"
   ]
  },
  {
   "cell_type": "code",
   "execution_count": 13,
   "metadata": {},
   "outputs": [
    {
     "name": "stdout",
     "output_type": "stream",
     "text": [
      "Cabin     A     B     C     D    E    F    G      Z\n",
      "Pclass                                             \n",
      "1       7.0  18.0  35.0  11.0  9.0  0.0  0.0   27.0\n",
      "2       0.0   0.0   0.0   2.0  0.0  5.0  0.0   86.0\n",
      "3       0.0   0.0   0.0   0.0  2.0  1.0  1.0  214.0\n"
     ]
    }
   ],
   "source": [
    "print(test.groupby('Pclass')['Cabin'].value_counts().unstack().fillna(0))"
   ]
  },
  {
   "cell_type": "markdown",
   "metadata": {},
   "source": [
    "Cabin A,B,T and C are the same class <br>\n",
    "Cabin G is 3rd class"
   ]
  },
  {
   "cell_type": "code",
   "execution_count": 14,
   "metadata": {},
   "outputs": [],
   "source": [
    "train['Cabin'] = train['Cabin'].replace(['A', 'B', 'C','T'], 'ABC')\n",
    "test['Cabin'] = test['Cabin'].replace(['A', 'B', 'C'], 'ABC')"
   ]
  },
  {
   "cell_type": "code",
   "execution_count": 15,
   "metadata": {},
   "outputs": [
    {
     "name": "stdout",
     "output_type": "stream",
     "text": [
      "Cabin     ABC     D     E    F    G      Z\n",
      "Pclass                                    \n",
      "1       122.0  29.0  25.0  0.0  0.0   40.0\n",
      "2         0.0   4.0   4.0  8.0  0.0  168.0\n",
      "3         0.0   0.0   4.0  4.0  4.0  479.0\n"
     ]
    }
   ],
   "source": [
    "print(train.groupby('Pclass')['Cabin'].value_counts().unstack().fillna(0))"
   ]
  },
  {
   "cell_type": "code",
   "execution_count": 16,
   "metadata": {},
   "outputs": [
    {
     "name": "stdout",
     "output_type": "stream",
     "text": [
      "Cabin\n",
      "ABC    97.0\n",
      "D      57.0\n",
      "E      45.0\n",
      "F      18.0\n",
      "G      14.0\n",
      "Z      19.0\n",
      "Name: Fare, dtype: float64\n",
      "Cabin\n",
      "ABC    79.0\n",
      "D      53.0\n",
      "E      38.0\n",
      "F      12.0\n",
      "G      14.0\n",
      "Z      10.0\n",
      "Name: Fare, dtype: float64\n"
     ]
    }
   ],
   "source": [
    "print(round(train.groupby('Cabin')['Fare'].mean()))\n",
    "print(round(train.groupby('Cabin')['Fare'].median()))"
   ]
  },
  {
   "cell_type": "code",
   "execution_count": 17,
   "metadata": {},
   "outputs": [
    {
     "data": {
      "text/html": [
       "<div>\n",
       "<style scoped>\n",
       "    .dataframe tbody tr th:only-of-type {\n",
       "        vertical-align: middle;\n",
       "    }\n",
       "\n",
       "    .dataframe tbody tr th {\n",
       "        vertical-align: top;\n",
       "    }\n",
       "\n",
       "    .dataframe thead th {\n",
       "        text-align: right;\n",
       "    }\n",
       "</style>\n",
       "<table border=\"1\" class=\"dataframe\">\n",
       "  <thead>\n",
       "    <tr style=\"text-align: right;\">\n",
       "      <th></th>\n",
       "      <th>PassengerId</th>\n",
       "      <th>Pclass</th>\n",
       "      <th>Name</th>\n",
       "      <th>Sex</th>\n",
       "      <th>Age</th>\n",
       "      <th>SibSp</th>\n",
       "      <th>Parch</th>\n",
       "      <th>Ticket</th>\n",
       "      <th>Fare</th>\n",
       "      <th>Cabin</th>\n",
       "      <th>Embarked</th>\n",
       "      <th>Title</th>\n",
       "      <th>male</th>\n",
       "      <th>female</th>\n",
       "      <th>Ticket_freq</th>\n",
       "      <th>Family</th>\n",
       "    </tr>\n",
       "  </thead>\n",
       "  <tbody>\n",
       "    <tr>\n",
       "      <th>152</th>\n",
       "      <td>1044</td>\n",
       "      <td>3</td>\n",
       "      <td>Storey, Mr. Thomas</td>\n",
       "      <td>male</td>\n",
       "      <td>60.5</td>\n",
       "      <td>0</td>\n",
       "      <td>0</td>\n",
       "      <td>3701</td>\n",
       "      <td>NaN</td>\n",
       "      <td>Z</td>\n",
       "      <td>S</td>\n",
       "      <td>Mr</td>\n",
       "      <td>1</td>\n",
       "      <td>0</td>\n",
       "      <td>1</td>\n",
       "      <td>1</td>\n",
       "    </tr>\n",
       "  </tbody>\n",
       "</table>\n",
       "</div>"
      ],
      "text/plain": [
       "     PassengerId  Pclass                Name   Sex   Age  SibSp  Parch Ticket  \\\n",
       "152         1044       3  Storey, Mr. Thomas  male  60.5      0      0   3701   \n",
       "\n",
       "     Fare Cabin Embarked Title  male  female  Ticket_freq  Family  \n",
       "152   NaN     Z        S    Mr     1       0            1       1  "
      ]
     },
     "execution_count": 17,
     "metadata": {},
     "output_type": "execute_result"
    }
   ],
   "source": [
    "test[test['Fare'].isna()==True]"
   ]
  },
  {
   "cell_type": "code",
   "execution_count": 18,
   "metadata": {},
   "outputs": [],
   "source": [
    "fare_med = test.groupby(['Pclass', 'Parch', 'SibSp']).Fare.median()[3][0][0]\n",
    "test['Fare'] = test['Fare'].fillna(fare_med)"
   ]
  },
  {
   "cell_type": "code",
   "execution_count": 19,
   "metadata": {},
   "outputs": [],
   "source": [
    "# Add column age range \n",
    "train['AgeRange'] = None\n",
    "train.loc[train['Age']<13,'AgeRange'] = 'Child'\n",
    "train.loc[(train['Age']>=13)&(train['Age']<21),'AgeRange'] = 'Teen'\n",
    "train.loc[train['Age']>=21,'AgeRange'] = 'Adult'\n",
    "train.loc[(train['Parch']==0)&(train['Age'].isna()==True),'AgeRange'] = 'Child'\n",
    "train.loc[train['AgeRange'].isna()==True,'AgeRange'] = 'Teen_Adult'\n",
    "# drop Age column\n",
    "#train = train.drop(['Age'], axis=1) \n",
    "test['AgeRange'] = None\n",
    "test.loc[test['Age']<13,'AgeRange'] = 'Child'\n",
    "test.loc[(test['Age']>=13)&(test['Age']<21),'AgeRange'] = 'Teen'\n",
    "test.loc[test['Age']>=21,'AgeRange'] = 'Adult'\n",
    "test.loc[(test['Parch']==0)&(test['Age'].isna()==True),'AgeRange'] = 'Child'\n",
    "test.loc[test['AgeRange'].isna()==True,'AgeRange'] = 'Teen_Adult'"
   ]
  },
  {
   "cell_type": "code",
   "execution_count": 20,
   "metadata": {},
   "outputs": [],
   "source": [
    "# one hot encoding for Embarked\n",
    "dummies = pd.get_dummies(train.Embarked)\n",
    "for i in train['Embarked'].unique():\n",
    "    train[i+'E'] = 0\n",
    "for i in train['Embarked'].unique():\n",
    "    train.loc[:,i+'E'] =  dummies[i]\n",
    "dummies = pd.get_dummies(test.Embarked)\n",
    "for i in test['Embarked'].unique():\n",
    "    test[i+'E'] = 0\n",
    "for i in test['Embarked'].unique():\n",
    "    test.loc[:,i+'E'] =  dummies[i]"
   ]
  },
  {
   "cell_type": "code",
   "execution_count": 21,
   "metadata": {},
   "outputs": [],
   "source": [
    "# one hot encoding for age\n",
    "dummies = pd.get_dummies(train.AgeRange)\n",
    "for i in train['AgeRange'].unique():\n",
    "    train[i] = 0\n",
    "for i in train['AgeRange'].unique():\n",
    "    train.loc[:,i] =  dummies[i]\n",
    "    \n",
    "dummies = pd.get_dummies(test.AgeRange)\n",
    "for i in test['AgeRange'].unique():\n",
    "    test[i] = 0\n",
    "\n",
    "for i in test['AgeRange'].unique():\n",
    "    test.loc[:,i] =  dummies[i]\n"
   ]
  },
  {
   "cell_type": "code",
   "execution_count": 22,
   "metadata": {},
   "outputs": [],
   "source": [
    "# one hot encoding for Cabin\n",
    "dummies = pd.get_dummies(train.Cabin)\n",
    "for i in train['Cabin'].unique():\n",
    "    train[i] = 0\n",
    "for i in train['Cabin'].unique():\n",
    "    train.loc[:,i] =  dummies[i]\n",
    "    \n",
    "dummies = pd.get_dummies(test.Cabin)\n",
    "for i in test['Cabin'].unique():\n",
    "    test[i] = 0\n",
    "\n",
    "for i in test['Cabin'].unique():\n",
    "    test.loc[:,i] =  dummies[i]"
   ]
  },
  {
   "cell_type": "code",
   "execution_count": 23,
   "metadata": {},
   "outputs": [
    {
     "data": {
      "text/plain": [
       "array(['Mr', 'Mrs', 'Miss', 'Master', 'Don', 'Rev', 'Dr', 'Mme', 'Ms',\n",
       "       'Major', 'Lady', 'Sir', 'Mlle', 'Col', 'Capt', 'the Countess',\n",
       "       'Jonkheer'], dtype=object)"
      ]
     },
     "execution_count": 23,
     "metadata": {},
     "output_type": "execute_result"
    }
   ],
   "source": [
    "train['Title'].unique()"
   ]
  },
  {
   "cell_type": "markdown",
   "metadata": {},
   "source": [
    "Too many titles to perform one hot encoding. Group the titles to reduce demention"
   ]
  },
  {
   "cell_type": "code",
   "execution_count": 24,
   "metadata": {},
   "outputs": [
    {
     "data": {
      "image/png": "[encoded data removed]",
      "text/plain": [
       "<Figure size 1152x720 with 1 Axes>"
      ]
     },
     "metadata": {
      "needs_background": "light"
     },
     "output_type": "display_data"
    }
   ],
   "source": [
    "import matplotlib.pyplot as plt\n",
    "import seaborn as sns\n",
    "for i in ['Title']:\n",
    "    plt.figure(figsize=(16, 10))\n",
    "    sns.barplot(x=i,y='Survived',data=train)\n",
    "    plt.show()"
   ]
  },
  {
   "cell_type": "code",
   "execution_count": 25,
   "metadata": {},
   "outputs": [
    {
     "name": "stdout",
     "output_type": "stream",
     "text": [
      "['Mr' 'Mrs' 'Miss' 'Master' 'Don' 'Rev' 'Dr' 'Mme' 'Ms' 'Major' 'Lady'\n",
      " 'Sir' 'Mlle' 'Col' 'Capt' 'the Countess' 'Jonkheer']\n",
      "['Mr' 'Mrs' 'Miss' 'Master' 'Ms' 'Col' 'Rev' 'Dr' 'Dona']\n"
     ]
    }
   ],
   "source": [
    "print(train['Title'].unique())\n",
    "print(test['Title'].unique())"
   ]
  },
  {
   "cell_type": "code",
   "execution_count": 26,
   "metadata": {},
   "outputs": [],
   "source": [
    "train['Title'] = train['Title'].replace(['Ms', 'Dona','Mme','Mlle','Jonkheer'], 'Single Women')\n",
    "test['Title'] = test['Title'].replace(['Ms', 'Dona', 'Mlle'], 'Single Women')\n",
    "\n",
    "train['Title'] = train['Title'].replace(['Mrs', 'the Countess'], 'Married Women')\n",
    "train['Title'] = train['Title'].replace(['Miss', 'Lady'], 'Miss/Lady')\n",
    "test['Title'] = test['Title'].replace(['Miss'], 'Miss/Lady')\n",
    "\n",
    "train['Title'] = train['Title'].replace(['Dr', 'Rev','Don','Major','Col','Capt'], 'Speciality Profession')\n",
    "train['Title'] = train['Title'].replace(['Mr','Sir'], 'Mr/Sir')\n",
    "\n",
    "test['Title'] = test['Title'].replace(['Dr', 'Rev','Col'], 'Speciality Profession')\n",
    "test['Title'] = test['Title'].replace(['Mr','Sir'], 'Mr/Sir')"
   ]
  },
  {
   "cell_type": "code",
   "execution_count": 27,
   "metadata": {},
   "outputs": [
    {
     "data": {
      "image/png": "[encoded data removed]",
      "text/plain": [
       "<Figure size 1152x720 with 1 Axes>"
      ]
     },
     "metadata": {
      "needs_background": "light"
     },
     "output_type": "display_data"
    }
   ],
   "source": [
    "import matplotlib.pyplot as plt\n",
    "import seaborn as sns\n",
    "for i in ['Title']:\n",
    "    plt.figure(figsize=(16, 10))\n",
    "    sns.barplot(x=i,y='Survived',data=train)\n",
    "    plt.show()"
   ]
  },
  {
   "cell_type": "code",
   "execution_count": 28,
   "metadata": {},
   "outputs": [],
   "source": [
    "# one hot encoding for Title\n",
    "dummies = pd.get_dummies(train.Title)\n",
    "for i in train['Title'].unique():\n",
    "    train[i] = 0\n",
    "for i in train['Title'].unique():\n",
    "    train.loc[:,i] =  dummies[i]\n",
    "    \n",
    "dummies = pd.get_dummies(test.Title)\n",
    "for i in test['Title'].unique():\n",
    "    test[i] = 0\n",
    "\n",
    "for i in test['Title'].unique():\n",
    "    test.loc[:,i] =  dummies[i]"
   ]
  },
  {
   "cell_type": "code",
   "execution_count": 29,
   "metadata": {},
   "outputs": [
    {
     "data": {
      "text/plain": [
       "Index(['PassengerId', 'Survived', 'Pclass', 'Name', 'Sex', 'Age', 'SibSp',\n",
       "       'Parch', 'Ticket', 'Fare', 'Cabin', 'Embarked', 'Title', 'male',\n",
       "       'female', 'Ticket_freq', 'Family', 'AgeRange', 'SE', 'CE', 'QE',\n",
       "       'Adult', 'Child', 'Teen', 'Teen_Adult', 'Z', 'ABC', 'E', 'G', 'D', 'F',\n",
       "       'Mr/Sir', 'Married Women', 'Miss/Lady', 'Master',\n",
       "       'Speciality Profession', 'Single Women'],\n",
       "      dtype='object')"
      ]
     },
     "execution_count": 29,
     "metadata": {},
     "output_type": "execute_result"
    }
   ],
   "source": [
    "train.columns"
   ]
  },
  {
   "cell_type": "code",
   "execution_count": 44,
   "metadata": {},
   "outputs": [
    {
     "data": {
      "text/plain": [
       "female     Mr/Sir      -0.869335\n",
       "Mr/Sir     female      -0.869335\n",
       "SE         CE          -0.782742\n",
       "CE         SE          -0.782742\n",
       "ABC        Z           -0.730937\n",
       "Z          ABC         -0.730937\n",
       "Adult      Child       -0.712984\n",
       "Child      Adult       -0.712984\n",
       "ABC        Pclass      -0.623790\n",
       "Pclass     ABC         -0.623790\n",
       "Miss/Lady  Mr/Sir      -0.599128\n",
       "Mr/Sir     Miss/Lady   -0.599128\n",
       "Age        Child       -0.561675\n",
       "Child      Age         -0.561675\n",
       "dtype: float64"
      ]
     },
     "execution_count": 44,
     "metadata": {},
     "output_type": "execute_result"
    }
   ],
   "source": [
    "sorted_pairs = train[train.columns.difference(['PassengerId','Survived','SibSp',\n",
    "                                'Parch','male','Fare'])].corr().unstack().sort_values(kind=\"quicksort\")\n",
    "sorted_pairs[sorted_pairs < -0.5] "
   ]
  },
  {
   "cell_type": "code",
   "execution_count": 50,
   "metadata": {},
   "outputs": [
    {
     "name": "stdout",
     "output_type": "stream",
     "text": [
      "female      Mr/Sir       -0.869335\n",
      "Mr/Sir      female       -0.869335\n",
      "SE          CE           -0.782742\n",
      "CE          SE           -0.782742\n",
      "ABC         Z            -0.730937\n",
      "                            ...   \n",
      "Family      Master        0.372472\n",
      "            Teen_Adult    0.408340\n",
      "Teen_Adult  Family        0.408340\n",
      "Age         Teen_Adult         NaN\n",
      "Teen_Adult  Age                NaN\n",
      "Length: 542, dtype: float64\n"
     ]
    }
   ],
   "source": [
    "print(sorted_pairs[(sorted_pairs > 0.5) & sorted_pairs!=1] )"
   ]
  },
  {
   "cell_type": "code",
   "execution_count": null,
   "metadata": {},
   "outputs": [],
   "source": []
  }
 ],
 "metadata": {
  "kernelspec": {
   "display_name": "Python 3",
   "language": "python",
   "name": "python3"
  },
  "language_info": {
   "codemirror_mode": {
    "name": "ipython",
    "version": 3
   },
   "file_extension": ".py",
   "mimetype": "text/x-python",
   "name": "python",
   "nbconvert_exporter": "python",
   "pygments_lexer": "ipython3",
   "version": "3.7.6"
  }
 },
 "nbformat": 4,
 "nbformat_minor": 4
}
