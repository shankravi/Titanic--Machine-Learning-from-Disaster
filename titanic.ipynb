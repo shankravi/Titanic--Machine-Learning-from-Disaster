{
 "cells": [
  {
   "cell_type": "markdown",
   "metadata": {},
   "source": [
    "# Titanic: Machine Learning from Disaster"
   ]
  },
  {
   "cell_type": "code",
   "execution_count": 1,
   "metadata": {},
   "outputs": [],
   "source": [
    "import pandas as pd\n",
    "import numpy as np"
   ]
  },
  {
   "cell_type": "code",
   "execution_count": 2,
   "metadata": {},
   "outputs": [
    {
     "name": "stdout",
     "output_type": "stream",
     "text": [
      "891 418 418\n"
     ]
    }
   ],
   "source": [
    "train = pd.read_csv('train.csv')\n",
    "test = pd.read_csv('test.csv')\n",
    "submit = pd.read_csv('gender_submission.csv')\n",
    "print(len(train),len(test),len(submit))"
   ]
  },
  {
   "cell_type": "markdown",
   "metadata": {},
   "source": [
    "#### Check for null data"
   ]
  },
  {
   "cell_type": "code",
   "execution_count": 3,
   "metadata": {},
   "outputs": [
    {
     "data": {
      "text/plain": [
       "PassengerId      0\n",
       "Survived         0\n",
       "Pclass           0\n",
       "Name             0\n",
       "Sex              0\n",
       "Age            177\n",
       "SibSp            0\n",
       "Parch            0\n",
       "Ticket           0\n",
       "Fare             0\n",
       "Cabin          687\n",
       "Embarked         2\n",
       "dtype: int64"
      ]
     },
     "execution_count": 3,
     "metadata": {},
     "output_type": "execute_result"
    }
   ],
   "source": [
    "train.isna().sum()"
   ]
  },
  {
   "cell_type": "code",
   "execution_count": 4,
   "metadata": {},
   "outputs": [],
   "source": [
    "# can drop 2 nans in the embarked column\n",
    "train = train[train['Embarked'].isna()!=True]"
   ]
  },
  {
   "cell_type": "code",
   "execution_count": 5,
   "metadata": {},
   "outputs": [
    {
     "name": "stdout",
     "output_type": "stream",
     "text": [
      "889 418\n"
     ]
    }
   ],
   "source": [
    "print(len(train),len(test))"
   ]
  },
  {
   "cell_type": "code",
   "execution_count": 6,
   "metadata": {},
   "outputs": [
    {
     "data": {
      "text/html": [
       "<div>\n",
       "<style scoped>\n",
       "    .dataframe tbody tr th:only-of-type {\n",
       "        vertical-align: middle;\n",
       "    }\n",
       "\n",
       "    .dataframe tbody tr th {\n",
       "        vertical-align: top;\n",
       "    }\n",
       "\n",
       "    .dataframe thead th {\n",
       "        text-align: right;\n",
       "    }\n",
       "</style>\n",
       "<table border=\"1\" class=\"dataframe\">\n",
       "  <thead>\n",
       "    <tr style=\"text-align: right;\">\n",
       "      <th></th>\n",
       "      <th>PassengerId</th>\n",
       "      <th>Survived</th>\n",
       "      <th>Pclass</th>\n",
       "      <th>Name</th>\n",
       "      <th>Sex</th>\n",
       "      <th>Age</th>\n",
       "      <th>SibSp</th>\n",
       "      <th>Parch</th>\n",
       "      <th>Ticket</th>\n",
       "      <th>Fare</th>\n",
       "      <th>Cabin</th>\n",
       "      <th>Embarked</th>\n",
       "    </tr>\n",
       "  </thead>\n",
       "  <tbody>\n",
       "    <tr>\n",
       "      <th>5</th>\n",
       "      <td>6</td>\n",
       "      <td>0</td>\n",
       "      <td>3</td>\n",
       "      <td>Moran, Mr. James</td>\n",
       "      <td>male</td>\n",
       "      <td>NaN</td>\n",
       "      <td>0</td>\n",
       "      <td>0</td>\n",
       "      <td>330877</td>\n",
       "      <td>8.4583</td>\n",
       "      <td>NaN</td>\n",
       "      <td>Q</td>\n",
       "    </tr>\n",
       "    <tr>\n",
       "      <th>17</th>\n",
       "      <td>18</td>\n",
       "      <td>1</td>\n",
       "      <td>2</td>\n",
       "      <td>Williams, Mr. Charles Eugene</td>\n",
       "      <td>male</td>\n",
       "      <td>NaN</td>\n",
       "      <td>0</td>\n",
       "      <td>0</td>\n",
       "      <td>244373</td>\n",
       "      <td>13.0000</td>\n",
       "      <td>NaN</td>\n",
       "      <td>S</td>\n",
       "    </tr>\n",
       "    <tr>\n",
       "      <th>19</th>\n",
       "      <td>20</td>\n",
       "      <td>1</td>\n",
       "      <td>3</td>\n",
       "      <td>Masselmani, Mrs. Fatima</td>\n",
       "      <td>female</td>\n",
       "      <td>NaN</td>\n",
       "      <td>0</td>\n",
       "      <td>0</td>\n",
       "      <td>2649</td>\n",
       "      <td>7.2250</td>\n",
       "      <td>NaN</td>\n",
       "      <td>C</td>\n",
       "    </tr>\n",
       "    <tr>\n",
       "      <th>26</th>\n",
       "      <td>27</td>\n",
       "      <td>0</td>\n",
       "      <td>3</td>\n",
       "      <td>Emir, Mr. Farred Chehab</td>\n",
       "      <td>male</td>\n",
       "      <td>NaN</td>\n",
       "      <td>0</td>\n",
       "      <td>0</td>\n",
       "      <td>2631</td>\n",
       "      <td>7.2250</td>\n",
       "      <td>NaN</td>\n",
       "      <td>C</td>\n",
       "    </tr>\n",
       "    <tr>\n",
       "      <th>28</th>\n",
       "      <td>29</td>\n",
       "      <td>1</td>\n",
       "      <td>3</td>\n",
       "      <td>O'Dwyer, Miss. Ellen \"Nellie\"</td>\n",
       "      <td>female</td>\n",
       "      <td>NaN</td>\n",
       "      <td>0</td>\n",
       "      <td>0</td>\n",
       "      <td>330959</td>\n",
       "      <td>7.8792</td>\n",
       "      <td>NaN</td>\n",
       "      <td>Q</td>\n",
       "    </tr>\n",
       "    <tr>\n",
       "      <th>...</th>\n",
       "      <td>...</td>\n",
       "      <td>...</td>\n",
       "      <td>...</td>\n",
       "      <td>...</td>\n",
       "      <td>...</td>\n",
       "      <td>...</td>\n",
       "      <td>...</td>\n",
       "      <td>...</td>\n",
       "      <td>...</td>\n",
       "      <td>...</td>\n",
       "      <td>...</td>\n",
       "      <td>...</td>\n",
       "    </tr>\n",
       "    <tr>\n",
       "      <th>859</th>\n",
       "      <td>860</td>\n",
       "      <td>0</td>\n",
       "      <td>3</td>\n",
       "      <td>Razi, Mr. Raihed</td>\n",
       "      <td>male</td>\n",
       "      <td>NaN</td>\n",
       "      <td>0</td>\n",
       "      <td>0</td>\n",
       "      <td>2629</td>\n",
       "      <td>7.2292</td>\n",
       "      <td>NaN</td>\n",
       "      <td>C</td>\n",
       "    </tr>\n",
       "    <tr>\n",
       "      <th>863</th>\n",
       "      <td>864</td>\n",
       "      <td>0</td>\n",
       "      <td>3</td>\n",
       "      <td>Sage, Miss. Dorothy Edith \"Dolly\"</td>\n",
       "      <td>female</td>\n",
       "      <td>NaN</td>\n",
       "      <td>8</td>\n",
       "      <td>2</td>\n",
       "      <td>CA. 2343</td>\n",
       "      <td>69.5500</td>\n",
       "      <td>NaN</td>\n",
       "      <td>S</td>\n",
       "    </tr>\n",
       "    <tr>\n",
       "      <th>868</th>\n",
       "      <td>869</td>\n",
       "      <td>0</td>\n",
       "      <td>3</td>\n",
       "      <td>van Melkebeke, Mr. Philemon</td>\n",
       "      <td>male</td>\n",
       "      <td>NaN</td>\n",
       "      <td>0</td>\n",
       "      <td>0</td>\n",
       "      <td>345777</td>\n",
       "      <td>9.5000</td>\n",
       "      <td>NaN</td>\n",
       "      <td>S</td>\n",
       "    </tr>\n",
       "    <tr>\n",
       "      <th>878</th>\n",
       "      <td>879</td>\n",
       "      <td>0</td>\n",
       "      <td>3</td>\n",
       "      <td>Laleff, Mr. Kristo</td>\n",
       "      <td>male</td>\n",
       "      <td>NaN</td>\n",
       "      <td>0</td>\n",
       "      <td>0</td>\n",
       "      <td>349217</td>\n",
       "      <td>7.8958</td>\n",
       "      <td>NaN</td>\n",
       "      <td>S</td>\n",
       "    </tr>\n",
       "    <tr>\n",
       "      <th>888</th>\n",
       "      <td>889</td>\n",
       "      <td>0</td>\n",
       "      <td>3</td>\n",
       "      <td>Johnston, Miss. Catherine Helen \"Carrie\"</td>\n",
       "      <td>female</td>\n",
       "      <td>NaN</td>\n",
       "      <td>1</td>\n",
       "      <td>2</td>\n",
       "      <td>W./C. 6607</td>\n",
       "      <td>23.4500</td>\n",
       "      <td>NaN</td>\n",
       "      <td>S</td>\n",
       "    </tr>\n",
       "  </tbody>\n",
       "</table>\n",
       "<p>177 rows × 12 columns</p>\n",
       "</div>"
      ],
      "text/plain": [
       "     PassengerId  Survived  Pclass                                      Name  \\\n",
       "5              6         0       3                          Moran, Mr. James   \n",
       "17            18         1       2              Williams, Mr. Charles Eugene   \n",
       "19            20         1       3                   Masselmani, Mrs. Fatima   \n",
       "26            27         0       3                   Emir, Mr. Farred Chehab   \n",
       "28            29         1       3             O'Dwyer, Miss. Ellen \"Nellie\"   \n",
       "..           ...       ...     ...                                       ...   \n",
       "859          860         0       3                          Razi, Mr. Raihed   \n",
       "863          864         0       3         Sage, Miss. Dorothy Edith \"Dolly\"   \n",
       "868          869         0       3               van Melkebeke, Mr. Philemon   \n",
       "878          879         0       3                        Laleff, Mr. Kristo   \n",
       "888          889         0       3  Johnston, Miss. Catherine Helen \"Carrie\"   \n",
       "\n",
       "        Sex  Age  SibSp  Parch      Ticket     Fare Cabin Embarked  \n",
       "5      male  NaN      0      0      330877   8.4583   NaN        Q  \n",
       "17     male  NaN      0      0      244373  13.0000   NaN        S  \n",
       "19   female  NaN      0      0        2649   7.2250   NaN        C  \n",
       "26     male  NaN      0      0        2631   7.2250   NaN        C  \n",
       "28   female  NaN      0      0      330959   7.8792   NaN        Q  \n",
       "..      ...  ...    ...    ...         ...      ...   ...      ...  \n",
       "859    male  NaN      0      0        2629   7.2292   NaN        C  \n",
       "863  female  NaN      8      2    CA. 2343  69.5500   NaN        S  \n",
       "868    male  NaN      0      0      345777   9.5000   NaN        S  \n",
       "878    male  NaN      0      0      349217   7.8958   NaN        S  \n",
       "888  female  NaN      1      2  W./C. 6607  23.4500   NaN        S  \n",
       "\n",
       "[177 rows x 12 columns]"
      ]
     },
     "execution_count": 6,
     "metadata": {},
     "output_type": "execute_result"
    }
   ],
   "source": [
    "train[train['Age'].isna()==True]"
   ]
  },
  {
   "cell_type": "markdown",
   "metadata": {},
   "source": [
    "TODO:<br>\n",
    "1) Only first class passengers can have a cabin, so cabin feature is not useful.\n",
    "    However, the cabin letters could indicate what floor level each passenger is at. Cabin A is at the top, so it is closest to the deck where the lifeboats are. As a result, it could be useful to use Cabin letters. <br>"
   ]
  },
  {
   "cell_type": "markdown",
   "metadata": {},
   "source": [
    "### Feature engineering and Feature Selection"
   ]
  },
  {
   "cell_type": "code",
   "execution_count": 7,
   "metadata": {},
   "outputs": [
    {
     "data": {
      "text/plain": [
       "Index(['PassengerId', 'Survived', 'Pclass', 'Name', 'Sex', 'Age', 'SibSp',\n",
       "       'Parch', 'Ticket', 'Fare', 'Cabin', 'Embarked'],\n",
       "      dtype='object')"
      ]
     },
     "execution_count": 7,
     "metadata": {},
     "output_type": "execute_result"
    }
   ],
   "source": [
    "train.columns\n",
    "# TODO: combine train and test to simplify code"
   ]
  },
  {
   "cell_type": "code",
   "execution_count": 8,
   "metadata": {},
   "outputs": [],
   "source": [
    "# transform cabin column into holding only cabin floor\n",
    "train.loc[train['Cabin'].isna()==True,'Cabin'] = 'Z'\n",
    "test.loc[test['Cabin'].isna()==True,'Cabin'] = 'Z'\n",
    "def split(word):\n",
    "    return [char for char in word]"
   ]
  },
  {
   "cell_type": "code",
   "execution_count": 9,
   "metadata": {},
   "outputs": [],
   "source": [
    "train['Cabin'] = [split(i) for i in train['Cabin']]\n",
    "cabin_list = ['A', 'B', 'C', 'D', 'E', 'F', 'T', 'G', 'Z']\n",
    "a = []\n",
    "for i in train['Cabin']:\n",
    "    b = []\n",
    "    for j in i:\n",
    "        if j in cabin_list:\n",
    "            b.append(j)\n",
    "    a.append(b)\n",
    "train['Cabin'] = a\n",
    "# select the highest deck for passengers with multiple decks booked\n",
    "train['Cabin'] = [min(i) for i in train['Cabin']]\n",
    "\n",
    "test['Cabin'] = [split(i) for i in test['Cabin']]\n",
    "a = []\n",
    "for i in test['Cabin']:\n",
    "    b = []\n",
    "    for j in i:\n",
    "        if j in cabin_list:\n",
    "            b.append(j)\n",
    "    a.append(b)\n",
    "test['Cabin'] = a\n",
    "test['Cabin'] = [min(i) for i in test['Cabin']]"
   ]
  },
  {
   "cell_type": "code",
   "execution_count": 10,
   "metadata": {},
   "outputs": [
    {
     "data": {
      "text/plain": [
       "array([0, 1, 2, 5, 3, 4, 6], dtype=int64)"
      ]
     },
     "execution_count": 10,
     "metadata": {},
     "output_type": "execute_result"
    }
   ],
   "source": [
    "train['Parch'].unique()"
   ]
  },
  {
   "cell_type": "code",
   "execution_count": 11,
   "metadata": {},
   "outputs": [
    {
     "data": {
      "text/html": [
       "<div>\n",
       "<style scoped>\n",
       "    .dataframe tbody tr th:only-of-type {\n",
       "        vertical-align: middle;\n",
       "    }\n",
       "\n",
       "    .dataframe tbody tr th {\n",
       "        vertical-align: top;\n",
       "    }\n",
       "\n",
       "    .dataframe thead th {\n",
       "        text-align: right;\n",
       "    }\n",
       "</style>\n",
       "<table border=\"1\" class=\"dataframe\">\n",
       "  <thead>\n",
       "    <tr style=\"text-align: right;\">\n",
       "      <th></th>\n",
       "      <th>PassengerId</th>\n",
       "      <th>Survived</th>\n",
       "      <th>Pclass</th>\n",
       "      <th>Name</th>\n",
       "      <th>Sex</th>\n",
       "      <th>Age</th>\n",
       "      <th>SibSp</th>\n",
       "      <th>Parch</th>\n",
       "      <th>Ticket</th>\n",
       "      <th>Fare</th>\n",
       "      <th>Cabin</th>\n",
       "      <th>Embarked</th>\n",
       "    </tr>\n",
       "  </thead>\n",
       "  <tbody>\n",
       "    <tr>\n",
       "      <th>5</th>\n",
       "      <td>6</td>\n",
       "      <td>0</td>\n",
       "      <td>3</td>\n",
       "      <td>Moran, Mr. James</td>\n",
       "      <td>male</td>\n",
       "      <td>NaN</td>\n",
       "      <td>0</td>\n",
       "      <td>0</td>\n",
       "      <td>330877</td>\n",
       "      <td>8.4583</td>\n",
       "      <td>Z</td>\n",
       "      <td>Q</td>\n",
       "    </tr>\n",
       "    <tr>\n",
       "      <th>17</th>\n",
       "      <td>18</td>\n",
       "      <td>1</td>\n",
       "      <td>2</td>\n",
       "      <td>Williams, Mr. Charles Eugene</td>\n",
       "      <td>male</td>\n",
       "      <td>NaN</td>\n",
       "      <td>0</td>\n",
       "      <td>0</td>\n",
       "      <td>244373</td>\n",
       "      <td>13.0000</td>\n",
       "      <td>Z</td>\n",
       "      <td>S</td>\n",
       "    </tr>\n",
       "    <tr>\n",
       "      <th>19</th>\n",
       "      <td>20</td>\n",
       "      <td>1</td>\n",
       "      <td>3</td>\n",
       "      <td>Masselmani, Mrs. Fatima</td>\n",
       "      <td>female</td>\n",
       "      <td>NaN</td>\n",
       "      <td>0</td>\n",
       "      <td>0</td>\n",
       "      <td>2649</td>\n",
       "      <td>7.2250</td>\n",
       "      <td>Z</td>\n",
       "      <td>C</td>\n",
       "    </tr>\n",
       "    <tr>\n",
       "      <th>26</th>\n",
       "      <td>27</td>\n",
       "      <td>0</td>\n",
       "      <td>3</td>\n",
       "      <td>Emir, Mr. Farred Chehab</td>\n",
       "      <td>male</td>\n",
       "      <td>NaN</td>\n",
       "      <td>0</td>\n",
       "      <td>0</td>\n",
       "      <td>2631</td>\n",
       "      <td>7.2250</td>\n",
       "      <td>Z</td>\n",
       "      <td>C</td>\n",
       "    </tr>\n",
       "    <tr>\n",
       "      <th>28</th>\n",
       "      <td>29</td>\n",
       "      <td>1</td>\n",
       "      <td>3</td>\n",
       "      <td>O'Dwyer, Miss. Ellen \"Nellie\"</td>\n",
       "      <td>female</td>\n",
       "      <td>NaN</td>\n",
       "      <td>0</td>\n",
       "      <td>0</td>\n",
       "      <td>330959</td>\n",
       "      <td>7.8792</td>\n",
       "      <td>Z</td>\n",
       "      <td>Q</td>\n",
       "    </tr>\n",
       "    <tr>\n",
       "      <th>...</th>\n",
       "      <td>...</td>\n",
       "      <td>...</td>\n",
       "      <td>...</td>\n",
       "      <td>...</td>\n",
       "      <td>...</td>\n",
       "      <td>...</td>\n",
       "      <td>...</td>\n",
       "      <td>...</td>\n",
       "      <td>...</td>\n",
       "      <td>...</td>\n",
       "      <td>...</td>\n",
       "      <td>...</td>\n",
       "    </tr>\n",
       "    <tr>\n",
       "      <th>839</th>\n",
       "      <td>840</td>\n",
       "      <td>1</td>\n",
       "      <td>1</td>\n",
       "      <td>Marechal, Mr. Pierre</td>\n",
       "      <td>male</td>\n",
       "      <td>NaN</td>\n",
       "      <td>0</td>\n",
       "      <td>0</td>\n",
       "      <td>11774</td>\n",
       "      <td>29.7000</td>\n",
       "      <td>C</td>\n",
       "      <td>C</td>\n",
       "    </tr>\n",
       "    <tr>\n",
       "      <th>849</th>\n",
       "      <td>850</td>\n",
       "      <td>1</td>\n",
       "      <td>1</td>\n",
       "      <td>Goldenberg, Mrs. Samuel L (Edwiga Grabowska)</td>\n",
       "      <td>female</td>\n",
       "      <td>NaN</td>\n",
       "      <td>1</td>\n",
       "      <td>0</td>\n",
       "      <td>17453</td>\n",
       "      <td>89.1042</td>\n",
       "      <td>C</td>\n",
       "      <td>C</td>\n",
       "    </tr>\n",
       "    <tr>\n",
       "      <th>859</th>\n",
       "      <td>860</td>\n",
       "      <td>0</td>\n",
       "      <td>3</td>\n",
       "      <td>Razi, Mr. Raihed</td>\n",
       "      <td>male</td>\n",
       "      <td>NaN</td>\n",
       "      <td>0</td>\n",
       "      <td>0</td>\n",
       "      <td>2629</td>\n",
       "      <td>7.2292</td>\n",
       "      <td>Z</td>\n",
       "      <td>C</td>\n",
       "    </tr>\n",
       "    <tr>\n",
       "      <th>868</th>\n",
       "      <td>869</td>\n",
       "      <td>0</td>\n",
       "      <td>3</td>\n",
       "      <td>van Melkebeke, Mr. Philemon</td>\n",
       "      <td>male</td>\n",
       "      <td>NaN</td>\n",
       "      <td>0</td>\n",
       "      <td>0</td>\n",
       "      <td>345777</td>\n",
       "      <td>9.5000</td>\n",
       "      <td>Z</td>\n",
       "      <td>S</td>\n",
       "    </tr>\n",
       "    <tr>\n",
       "      <th>878</th>\n",
       "      <td>879</td>\n",
       "      <td>0</td>\n",
       "      <td>3</td>\n",
       "      <td>Laleff, Mr. Kristo</td>\n",
       "      <td>male</td>\n",
       "      <td>NaN</td>\n",
       "      <td>0</td>\n",
       "      <td>0</td>\n",
       "      <td>349217</td>\n",
       "      <td>7.8958</td>\n",
       "      <td>Z</td>\n",
       "      <td>S</td>\n",
       "    </tr>\n",
       "  </tbody>\n",
       "</table>\n",
       "<p>157 rows × 12 columns</p>\n",
       "</div>"
      ],
      "text/plain": [
       "     PassengerId  Survived  Pclass  \\\n",
       "5              6         0       3   \n",
       "17            18         1       2   \n",
       "19            20         1       3   \n",
       "26            27         0       3   \n",
       "28            29         1       3   \n",
       "..           ...       ...     ...   \n",
       "839          840         1       1   \n",
       "849          850         1       1   \n",
       "859          860         0       3   \n",
       "868          869         0       3   \n",
       "878          879         0       3   \n",
       "\n",
       "                                             Name     Sex  Age  SibSp  Parch  \\\n",
       "5                                Moran, Mr. James    male  NaN      0      0   \n",
       "17                   Williams, Mr. Charles Eugene    male  NaN      0      0   \n",
       "19                        Masselmani, Mrs. Fatima  female  NaN      0      0   \n",
       "26                        Emir, Mr. Farred Chehab    male  NaN      0      0   \n",
       "28                  O'Dwyer, Miss. Ellen \"Nellie\"  female  NaN      0      0   \n",
       "..                                            ...     ...  ...    ...    ...   \n",
       "839                          Marechal, Mr. Pierre    male  NaN      0      0   \n",
       "849  Goldenberg, Mrs. Samuel L (Edwiga Grabowska)  female  NaN      1      0   \n",
       "859                              Razi, Mr. Raihed    male  NaN      0      0   \n",
       "868                   van Melkebeke, Mr. Philemon    male  NaN      0      0   \n",
       "878                            Laleff, Mr. Kristo    male  NaN      0      0   \n",
       "\n",
       "     Ticket     Fare Cabin Embarked  \n",
       "5    330877   8.4583     Z        Q  \n",
       "17   244373  13.0000     Z        S  \n",
       "19     2649   7.2250     Z        C  \n",
       "26     2631   7.2250     Z        C  \n",
       "28   330959   7.8792     Z        Q  \n",
       "..      ...      ...   ...      ...  \n",
       "839   11774  29.7000     C        C  \n",
       "849   17453  89.1042     C        C  \n",
       "859    2629   7.2292     Z        C  \n",
       "868  345777   9.5000     Z        S  \n",
       "878  349217   7.8958     Z        S  \n",
       "\n",
       "[157 rows x 12 columns]"
      ]
     },
     "execution_count": 11,
     "metadata": {},
     "output_type": "execute_result"
    }
   ],
   "source": [
    "train[(train['Parch']==0) & (train['Age'].isna()==True)]"
   ]
  },
  {
   "cell_type": "markdown",
   "metadata": {},
   "source": [
    "Most of the nan values for age can be solved using Parch"
   ]
  },
  {
   "cell_type": "code",
   "execution_count": 12,
   "metadata": {},
   "outputs": [
    {
     "data": {
      "text/plain": [
       "PassengerId     0\n",
       "Pclass          0\n",
       "Name            0\n",
       "Sex             0\n",
       "Age            86\n",
       "SibSp           0\n",
       "Parch           0\n",
       "Ticket          0\n",
       "Fare            1\n",
       "Cabin           0\n",
       "Embarked        0\n",
       "dtype: int64"
      ]
     },
     "execution_count": 12,
     "metadata": {},
     "output_type": "execute_result"
    }
   ],
   "source": [
    "test.isna().sum()"
   ]
  },
  {
   "cell_type": "markdown",
   "metadata": {},
   "source": [
    "#### \"Some children travelled only with a nanny, therefore parch=0 for them\" source kaggle variable notes"
   ]
  },
  {
   "cell_type": "code",
   "execution_count": 13,
   "metadata": {},
   "outputs": [],
   "source": [
    "# Add column age range \n",
    "train['AgeRange'] = None\n",
    "train.loc[train['Age']<13,'AgeRange'] = 'Child'\n",
    "train.loc[(train['Age']>=13)&(train['Age']<21),'AgeRange'] = 'Teen'\n",
    "train.loc[train['Age']>=21,'AgeRange'] = 'Adult'\n",
    "train.loc[(train['Parch']==0)&(train['Age'].isna()==True),'AgeRange'] = 'Child'\n",
    "train.loc[train['AgeRange'].isna()==True,'AgeRange'] = 'Teen_Adult'\n",
    "# drop Age column\n",
    "#train = train.drop(['Age'], axis=1) \n",
    "test['AgeRange'] = None\n",
    "test.loc[test['Age']<13,'AgeRange'] = 'Child'\n",
    "test.loc[(test['Age']>=13)&(test['Age']<21),'AgeRange'] = 'Teen'\n",
    "test.loc[test['Age']>=21,'AgeRange'] = 'Adult'\n",
    "test.loc[(test['Parch']==0)&(test['Age'].isna()==True),'AgeRange'] = 'Child'\n",
    "test.loc[test['AgeRange'].isna()==True,'AgeRange'] = 'Teen_Adult'"
   ]
  },
  {
   "cell_type": "code",
   "execution_count": 14,
   "metadata": {},
   "outputs": [
    {
     "data": {
      "image/png": "[encoded data removed]",
      "text/plain": [
       "<Figure size 720x576 with 1 Axes>"
      ]
     },
     "metadata": {
      "needs_background": "light"
     },
     "output_type": "display_data"
    }
   ],
   "source": [
    "import seaborn as sns \n",
    "import matplotlib.pyplot as plt\n",
    "# check relation between fare price and Pclass\n",
    "plt.figure(figsize=(10, 8))\n",
    "sns.stripplot(x='Pclass',y='Fare',hue='Survived',data=train)\n",
    "plt.show()"
   ]
  },
  {
   "cell_type": "markdown",
   "metadata": {},
   "source": [
    "#### Observations:\n",
    "1) Fare price does not relate to the ticket class unless fare is above 100 <br>\n",
    "2) For fare above 100, 1st class has more % of survivers than that of 1st class tickets below 100 <br> \n",
    "2) 1st and 2nd class ticket holders have more survivers than 3rd class <br>"
   ]
  },
  {
   "cell_type": "code",
   "execution_count": 15,
   "metadata": {},
   "outputs": [
    {
     "name": "stdout",
     "output_type": "stream",
     "text": [
      "Cabin       A     B     C     D     E    F    G    T      Z\n",
      "Survived                                                   \n",
      "0         8.0  12.0  24.0   8.0   8.0  5.0  2.0  1.0  481.0\n",
      "1         7.0  33.0  35.0  25.0  25.0  7.0  2.0  0.0  206.0\n"
     ]
    }
   ],
   "source": [
    "print(train.groupby('Survived')['Cabin'].value_counts().unstack().fillna(0))"
   ]
  },
  {
   "cell_type": "markdown",
   "metadata": {},
   "source": [
    "It was expected that as Cabin number would increase from A to T the number of survived would decrease as lower letter Cabins are closer to the the deck (where life boats are). "
   ]
  },
  {
   "cell_type": "code",
   "execution_count": 16,
   "metadata": {},
   "outputs": [
    {
     "name": "stdout",
     "output_type": "stream",
     "text": [
      "Cabin\n",
      "A     40.0\n",
      "B    115.0\n",
      "C    100.0\n",
      "D     57.0\n",
      "E     45.0\n",
      "F     18.0\n",
      "G     14.0\n",
      "T     36.0\n",
      "Z     19.0\n",
      "Name: Fare, dtype: float64\n",
      "Cabin\n",
      "A    36.0\n",
      "B    79.0\n",
      "C    83.0\n",
      "D    53.0\n",
      "E    38.0\n",
      "F    12.0\n",
      "G    14.0\n",
      "T    36.0\n",
      "Z    10.0\n",
      "Name: Fare, dtype: float64\n"
     ]
    }
   ],
   "source": [
    "print(round(train.groupby('Cabin')['Fare'].mean()))\n",
    "print(round(train.groupby('Cabin')['Fare'].median()))"
   ]
  },
  {
   "cell_type": "markdown",
   "metadata": {},
   "source": [
    "Note: Cabin Z is 2nd and 3rd class <br>\n",
    "#### Observations:\n",
    "1) looking at the mean and median fare for each cabin, and comparing it to the Survived count table, Cabin B,C and D are most expensive cabins and they also have the highest Survival rate. <br>\n",
    "2) Since fare value is significant to 5 decimal places using it will make the model too complex. To simplify model building, either use a similified version of fare value or use cabin column and fare column to create a new feature."
   ]
  },
  {
   "cell_type": "code",
   "execution_count": 17,
   "metadata": {},
   "outputs": [],
   "source": [
    "# add feature avg price of a cabin (calculated as int)\n",
    "avg = round(train.groupby('Cabin')['Fare'].mean())\n",
    "avg = {j:i for i,j in zip(avg,train['Cabin'].unique())}\n",
    "train['Fare_avg'] = [avg[i] for i in train['Cabin']]\n",
    "\n",
    "avg = round(test.groupby('Cabin')['Fare'].mean())\n",
    "avg = {j:i for i,j in zip(avg,test['Cabin'].unique())}\n",
    "test['Fare_avg'] = [avg[i] for i in test['Cabin']]"
   ]
  },
  {
   "cell_type": "markdown",
   "metadata": {},
   "source": [
    "### one hot encoding"
   ]
  },
  {
   "cell_type": "code",
   "execution_count": 18,
   "metadata": {},
   "outputs": [],
   "source": [
    "# one hot encoding for Sex\n",
    "dummies = pd.get_dummies(train.Sex)\n",
    "for i in train['Sex'].unique():\n",
    "    train[i] = 0\n",
    "for i in train['Sex'].unique():\n",
    "    train.loc[:,i] =  dummies[i]\n",
    "#train = train.drop(['Sex'], axis=1) \n",
    "train.head()\n",
    "dummies = pd.get_dummies(test.Sex)\n",
    "for i in test['Sex'].unique():\n",
    "    test[i] = 0\n",
    "for i in test['Sex'].unique():\n",
    "    test.loc[:,i] =  dummies[i]\n",
    "\n",
    "#test = test.drop(['Sex'], axis=1) "
   ]
  },
  {
   "cell_type": "code",
   "execution_count": 19,
   "metadata": {},
   "outputs": [],
   "source": [
    "# one hot encoding for age\n",
    "dummies = pd.get_dummies(train.AgeRange)\n",
    "for i in train['AgeRange'].unique():\n",
    "    train[i] = 0\n",
    "for i in train['AgeRange'].unique():\n",
    "    train.loc[:,i] =  dummies[i]\n",
    "    \n",
    "dummies = pd.get_dummies(test.AgeRange)\n",
    "for i in test['AgeRange'].unique():\n",
    "    test[i] = 0\n",
    "\n",
    "for i in test['AgeRange'].unique():\n",
    "    test.loc[:,i] =  dummies[i]"
   ]
  },
  {
   "cell_type": "code",
   "execution_count": 20,
   "metadata": {},
   "outputs": [],
   "source": [
    "# one hot encoding for Cabin\n",
    "dummies = pd.get_dummies(train.Cabin)\n",
    "for i in train['Cabin'].unique():\n",
    "    train[i] = 0\n",
    "for i in train['Cabin'].unique():\n",
    "    train.loc[:,i] =  dummies[i]\n",
    "    \n",
    "dummies = pd.get_dummies(test.Cabin)\n",
    "for i in test['Cabin'].unique():\n",
    "    test[i] = 0\n",
    "\n",
    "for i in test['Cabin'].unique():\n",
    "    test.loc[:,i] =  dummies[i]"
   ]
  },
  {
   "cell_type": "markdown",
   "metadata": {},
   "source": [
    "## Model"
   ]
  },
  {
   "cell_type": "code",
   "execution_count": 21,
   "metadata": {},
   "outputs": [],
   "source": [
    "from sklearn import tree\n",
    "from sklearn.feature_extraction.text import CountVectorizer\n",
    "from sklearn.model_selection import KFold\n",
    "from sklearn.ensemble import RandomForestClassifier\n",
    "import matplotlib.pyplot as plt\n",
    "#import graphviz\n",
    "from sklearn.metrics import confusion_matrix"
   ]
  },
  {
   "cell_type": "code",
   "execution_count": 22,
   "metadata": {},
   "outputs": [
    {
     "data": {
      "text/plain": [
       "Index(['PassengerId', 'Survived', 'Pclass', 'Name', 'Sex', 'Age', 'SibSp',\n",
       "       'Parch', 'Ticket', 'Fare', 'Cabin', 'Embarked', 'AgeRange', 'Fare_avg',\n",
       "       'male', 'female', 'Adult', 'Child', 'Teen', 'Teen_Adult', 'Z', 'C', 'E',\n",
       "       'G', 'D', 'A', 'B', 'F', 'T'],\n",
       "      dtype='object')"
      ]
     },
     "execution_count": 22,
     "metadata": {},
     "output_type": "execute_result"
    }
   ],
   "source": [
    "train.columns"
   ]
  },
  {
   "cell_type": "code",
   "execution_count": 23,
   "metadata": {},
   "outputs": [
    {
     "data": {
      "text/plain": [
       "Index(['PassengerId', 'Pclass', 'Name', 'Sex', 'Age', 'SibSp', 'Parch',\n",
       "       'Ticket', 'Fare', 'Cabin', 'Embarked', 'AgeRange', 'Fare_avg', 'male',\n",
       "       'female', 'Adult', 'Teen', 'Child', 'Teen_Adult', 'Z', 'B', 'E', 'A',\n",
       "       'C', 'D', 'F', 'G'],\n",
       "      dtype='object')"
      ]
     },
     "execution_count": 23,
     "metadata": {},
     "output_type": "execute_result"
    }
   ],
   "source": [
    "test.columns"
   ]
  },
  {
   "cell_type": "markdown",
   "metadata": {},
   "source": [
    "### Since this is a classification problem we can use D-Trees or random forest if this does not increase the acuracy from the baseline score then we can try other classification models"
   ]
  },
  {
   "cell_type": "code",
   "execution_count": 24,
   "metadata": {},
   "outputs": [],
   "source": [
    "clf = tree.DecisionTreeClassifier()\n",
    "features = ['Pclass','SibSp','Parch','male','female','Child',\n",
    "            'Adult','Teen','Teen_Adult','Z','C','B','D','E']\n",
    "X = train[features]\n",
    "Y = train['Survived']\n",
    "clf = clf.fit(X, Y)"
   ]
  },
  {
   "cell_type": "markdown",
   "metadata": {},
   "source": [
    "#### Reason for feature selection:"
   ]
  },
  {
   "cell_type": "code",
   "execution_count": 25,
   "metadata": {},
   "outputs": [],
   "source": [
    "# predict which passengers survived using the trained model\n",
    "submit['Survived'] = clf.predict(test[features])\n",
    "submit = submit[['PassengerId','Survived']]\n",
    "submit.to_csv('submit_dt1.csv', index=False)"
   ]
  },
  {
   "cell_type": "markdown",
   "metadata": {},
   "source": [
    "### Decision tree is a base line model with a score of 75.60% accuracy (score from kaggle)\n",
    "#### To improve from base score do parameter tunning for decision tree and also make a model for random forest"
   ]
  },
  {
   "cell_type": "code",
   "execution_count": 26,
   "metadata": {},
   "outputs": [
    {
     "name": "stdout",
     "output_type": "stream",
     "text": [
      "889 418\n",
      "889 889\n"
     ]
    }
   ],
   "source": [
    "# shuffle\n",
    "train = train.sample(frac=1).reset_index(drop=True)\n",
    "\n",
    "train_val_X = train[features]\n",
    "train_val_y = train['Survived']\n",
    "\n",
    "print(len(train), len(test))\n",
    "print(len(train_val_X),len(train_val_y))"
   ]
  },
  {
   "cell_type": "code",
   "execution_count": 27,
   "metadata": {},
   "outputs": [
    {
     "name": "stdout",
     "output_type": "stream",
     "text": [
      "Depth:  1\n",
      "Training accuracy:  78.62766478610598 %\n",
      "Validation accuracy:  78.62756300387228 %\n",
      "Depth:  5\n",
      "Training accuracy:  84.11100048989397 %\n",
      "Validation accuracy:  81.77426521932331 %\n",
      "Depth:  6\n",
      "Training accuracy:  84.78590843723828 %\n",
      "Validation accuracy:  81.8866247698851 %\n",
      "Depth:  7\n",
      "Training accuracy:  85.65776165868613 %\n",
      "Validation accuracy:  81.6625404684822 %\n",
      "Depth:  8\n",
      "Training accuracy:  85.93897659571105 %\n",
      "Validation accuracy:  81.54954611819971 %\n",
      "Depth:  9\n",
      "Training accuracy:  86.276450323172 %\n",
      "Validation accuracy:  81.43528216847585 %\n",
      "Depth:  10\n",
      "Training accuracy:  86.44518718690244 %\n",
      "Validation accuracy:  81.09756871706976 %\n",
      "Depth:  11\n",
      "Training accuracy:  86.5295358649789 %\n",
      "Validation accuracy:  81.66127086904082 %\n",
      "Depth:  12\n",
      "Training accuracy:  86.58575514783736 %\n",
      "Validation accuracy:  81.54827651875833 %\n",
      "Depth:  13\n",
      "Training accuracy:  86.64197443069581 %\n",
      "Validation accuracy:  81.43591696819654 %\n",
      "Depth:  14\n",
      "Training accuracy:  86.64197443069581 %\n",
      "Validation accuracy:  81.43591696819654 %\n"
     ]
    },
    {
     "data": {
      "text/plain": [
       "<matplotlib.legend.Legend at 0x244fa6a4948>"
      ]
     },
     "execution_count": 27,
     "metadata": {},
     "output_type": "execute_result"
    },
    {
     "data": {
      "image/png": "[encoded data removed]",
      "text/plain": [
       "<Figure size 432x288 with 1 Axes>"
      ]
     },
     "metadata": {
      "needs_background": "light"
     },
     "output_type": "display_data"
    }
   ],
   "source": [
    "def dtc_parameter_tune(tain_val_X, train_val_y):\n",
    "    depths = [1,5,6,7,8,9,10,11,12,13,14]\n",
    "    train_acc_all = []\n",
    "    val_acc_all = []\n",
    "\n",
    "    kf = KFold(n_splits = 5)\n",
    "    for depth in depths:\n",
    "        train_acc = []\n",
    "        val_acc = []\n",
    "        for train_index, val_index in kf.split(train_val_X):\n",
    "            train_X = train_val_X.iloc[train_index,:]\n",
    "            val_X = train_val_X.iloc[val_index,:]\n",
    "\n",
    "            train_y = train_val_y[train_index]\n",
    "            val_y = train_val_y[val_index]\n",
    "            \n",
    "            dtc = tree.DecisionTreeClassifier(max_depth=depth,random_state=0,\n",
    "                                              criterion='entropy')\n",
    "            dtc.fit(train_X, train_y)\n",
    "            train_acc.append(dtc.score(train_X, train_y))\n",
    "            val_acc.append(dtc.score(val_X, val_y))\n",
    "            \n",
    "        avg_train_acc = sum(train_acc) / len(train_acc) # compute the average training accuracy of K-folds CV\n",
    "        avg_val_acc = sum(val_acc) / len(val_acc) # compute the average validation accuracy of K-folds CV\n",
    "        print(\"Depth: \", depth)\n",
    "        print(\"Training accuracy: \", avg_train_acc * 100, \"%\")\n",
    "        print(\"Validation accuracy: \", avg_val_acc * 100, \"%\")\n",
    "\n",
    "        train_acc_all.append(avg_train_acc)\n",
    "        val_acc_all.append(avg_val_acc)\n",
    "\n",
    "    return depths, train_acc_all, val_acc_all\n",
    "\n",
    "depths, train_acc_all, val_acc_all = dtc_parameter_tune(train_val_X,train_val_y)\n",
    "\n",
    "# plot training/validation curves\n",
    "plt.plot(depths, train_acc_all, marker='.', label=\"Training accuracy\")\n",
    "plt.plot(depths, val_acc_all, marker='.', label=\"Validation accuracy\")\n",
    "plt.xlabel('Depth of tree')\n",
    "plt.ylabel('Accuracy')\n",
    "plt.legend()"
   ]
  },
  {
   "cell_type": "code",
   "execution_count": 28,
   "metadata": {},
   "outputs": [
    {
     "name": "stdout",
     "output_type": "stream",
     "text": [
      "Best depth:  6\n",
      "Training accuracy:  85.03937007874016 %\n",
      "mean accuracy 81.28316107177277 %\n"
     ]
    }
   ],
   "source": [
    "best_index = val_acc_all.index(max(val_acc_all))\n",
    "best_depth = depths[best_index]\n",
    "dtc = tree.DecisionTreeClassifier(max_depth=best_depth,random_state=0,\n",
    "                                  criterion='entropy')\n",
    "dtc.fit(train_val_X,train_val_y)\n",
    "train_acc = dtc.score(train_val_X, train_val_y)\n",
    "\n",
    "print(\"Best depth: \", best_depth)\n",
    "print(\"Training accuracy: \", train_acc * 100, \"%\")\n",
    "print(\"mean accuracy\", np.mean(val_acc_all)* 100, \"%\")"
   ]
  },
  {
   "cell_type": "code",
   "execution_count": 29,
   "metadata": {},
   "outputs": [],
   "source": [
    "# predict which passengers survived using the trained model\n",
    "submit['Survived'] = dtc.predict(test[features])\n",
    "submit = submit[['PassengerId','Survived']]\n",
    "submit.to_csv('submit_dt_tuned.csv', index=False)"
   ]
  },
  {
   "cell_type": "markdown",
   "metadata": {},
   "source": [
    "### Decision tree with tuned parameter is 76.56% accuracy (score from kaggle) improvement of more than 1%\n",
    "#### try other models to improve socore"
   ]
  },
  {
   "cell_type": "code",
   "execution_count": 30,
   "metadata": {},
   "outputs": [
    {
     "name": "stdout",
     "output_type": "stream",
     "text": [
      "Estimator:  1\n",
      "Training accuracy:  84.50560217449706 %\n",
      "Validation accuracy:  77.95404050022219 %\n",
      "Estimator:  2\n",
      "Training accuracy:  85.26458224687495 %\n",
      "Validation accuracy:  78.4072875007935 %\n",
      "Estimator:  3\n",
      "Training accuracy:  85.77079283806634 %\n",
      "Validation accuracy:  78.74436615247889 %\n",
      "Estimator:  4\n",
      "Training accuracy:  86.19257573602617 %\n",
      "Validation accuracy:  78.4066527010728 %\n",
      "Estimator:  5\n",
      "Training accuracy:  86.22074463882171 %\n",
      "Validation accuracy:  78.96908525360249 %\n",
      "Estimator:  6\n",
      "Training accuracy:  86.33322271211618 %\n",
      "Validation accuracy:  79.53088300641147 %\n",
      "Estimator:  7\n",
      "Training accuracy:  86.4175318826151 %\n",
      "Validation accuracy:  79.98159080810005 %\n",
      "Estimator:  8\n",
      "Training accuracy:  86.38940248739708 %\n",
      "Validation accuracy:  80.65574811147084 %\n",
      "Estimator:  9\n",
      "Training accuracy:  86.33318320453863 %\n",
      "Validation accuracy:  80.31866945978544 %\n",
      "Estimator:  10\n",
      "Training accuracy:  86.38948150255219 %\n",
      "Validation accuracy:  80.20630990922363 %\n",
      "Estimator:  11\n",
      "Training accuracy:  86.38940248739708 %\n",
      "Validation accuracy:  80.31866945978543 %\n",
      "Estimator:  12\n",
      "Training accuracy:  86.53000995590953 %\n",
      "Validation accuracy:  80.54338856090905 %\n",
      "Estimator:  13\n",
      "Training accuracy:  86.41749237503753 %\n",
      "Validation accuracy:  80.7687424617533 %\n",
      "Estimator:  14\n",
      "Training accuracy:  86.5300494634871 %\n",
      "Validation accuracy:  80.20694470894432 %\n",
      "Estimator:  15\n",
      "Training accuracy:  86.47375116547353 %\n",
      "Validation accuracy:  79.86859645781756 %\n"
     ]
    },
    {
     "data": {
      "text/plain": [
       "<matplotlib.legend.Legend at 0x244fa74fd88>"
      ]
     },
     "execution_count": 30,
     "metadata": {},
     "output_type": "execute_result"
    },
    {
     "data": {
      "image/png": "[encoded data removed]",
      "text/plain": [
       "<Figure size 432x288 with 1 Axes>"
      ]
     },
     "metadata": {
      "needs_background": "light"
     },
     "output_type": "display_data"
    }
   ],
   "source": [
    "train = train.sample(frac=1).reset_index(drop=True)\n",
    "\n",
    "train_val_X = train[features]\n",
    "train_val_y = train['Survived']\n",
    "\n",
    "def clf_parameter_tune(tain_val_X, train_val_y):\n",
    "    n_estimators = [1,2,3,4,5,6,7,8,9,10,11,12,13,14,15]\n",
    "    train_acc_all = []\n",
    "    val_acc_all = []\n",
    "\n",
    "    kf = KFold(n_splits = 5)\n",
    "    for estimator in n_estimators:\n",
    "        train_acc = []\n",
    "        val_acc = []\n",
    "        for train_index, val_index in kf.split(train_val_X):\n",
    "            train_X = train_val_X.iloc[train_index,:]\n",
    "            val_X = train_val_X.iloc[val_index,:]\n",
    "\n",
    "            train_y = train_val_y[train_index]\n",
    "            val_y = train_val_y[val_index]\n",
    "            \n",
    "            clf = RandomForestClassifier(n_estimators=estimator,random_state=0,\n",
    "                                         criterion='entropy')\n",
    "            clf.fit(train_X, train_y)\n",
    "            train_acc.append(clf.score(train_X, train_y))\n",
    "            val_acc.append(clf.score(val_X, val_y))\n",
    "            \n",
    "        avg_train_acc = sum(train_acc) / len(train_acc) # compute the average training accuracy of K-folds CV\n",
    "        avg_val_acc = sum(val_acc) / len(val_acc) # compute the average validation accuracy of K-folds CV\n",
    "        print(\"Estimator: \", estimator)\n",
    "        print(\"Training accuracy: \", avg_train_acc * 100, \"%\")\n",
    "        print(\"Validation accuracy: \", avg_val_acc * 100, \"%\")\n",
    "\n",
    "        train_acc_all.append(avg_train_acc)\n",
    "        val_acc_all.append(avg_val_acc)\n",
    "\n",
    "    return n_estimators, train_acc_all, val_acc_all\n",
    "\n",
    "n_estimators, train_acc_all, val_acc_all = clf_parameter_tune(train_val_X, train_val_y)\n",
    "\n",
    "# plot training/validation curves\n",
    "plt.plot(n_estimators, train_acc_all, marker='.', label=\"Training accuracy\")\n",
    "plt.plot(n_estimators, val_acc_all, marker='.', label=\"Validation accuracy\")\n",
    "plt.xlabel('# Estimator')\n",
    "plt.ylabel('Accuracy')\n",
    "plt.legend()"
   ]
  },
  {
   "cell_type": "code",
   "execution_count": 31,
   "metadata": {},
   "outputs": [
    {
     "name": "stdout",
     "output_type": "stream",
     "text": [
      "Best estimator:  13\n",
      "Training accuracy:  86.27671541057367 %\n",
      "mean accuracy 79.65873167015808 %\n"
     ]
    }
   ],
   "source": [
    "best_index = val_acc_all.index(max(val_acc_all))\n",
    "best_estimator = n_estimators[best_index]\n",
    "clf = RandomForestClassifier(n_estimators=best_estimator,random_state=0,\n",
    "                             criterion='entropy')\n",
    "clf.fit(train_val_X,train_val_y)\n",
    "train_acc = clf.score(train_val_X, train_val_y)\n",
    "\n",
    "print(\"Best estimator: \", best_estimator)\n",
    "print(\"Training accuracy: \", train_acc * 100, \"%\")\n",
    "print(\"mean accuracy\", np.mean(val_acc_all)* 100, \"%\")"
   ]
  },
  {
   "cell_type": "code",
   "execution_count": 32,
   "metadata": {},
   "outputs": [],
   "source": [
    "# predict which passengers survived using the trained model\n",
    "submit['Survived'] = clf.predict(test[features])\n",
    "submit = submit[['PassengerId','Survived']]\n",
    "submit.to_csv('submit_RF_tuned.csv', index=False)"
   ]
  },
  {
   "cell_type": "markdown",
   "metadata": {},
   "source": [
    "### Result of random forest was 77.99% "
   ]
  },
  {
   "cell_type": "code",
   "execution_count": null,
   "metadata": {},
   "outputs": [],
   "source": []
  }
 ],
 "metadata": {
  "kernelspec": {
   "display_name": "Python 3",
   "language": "python",
   "name": "python3"
  },
  "language_info": {
   "codemirror_mode": {
    "name": "ipython",
    "version": 3
   },
   "file_extension": ".py",
   "mimetype": "text/x-python",
   "name": "python",
   "nbconvert_exporter": "python",
   "pygments_lexer": "ipython3",
   "version": "3.7.6"
  }
 },
 "nbformat": 4,
 "nbformat_minor": 4
}
